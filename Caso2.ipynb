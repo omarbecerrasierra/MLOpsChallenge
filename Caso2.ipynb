{
  "metadata": {
    "colab": {
      "provenance": [],
      "include_colab_link": true
    },
    "kernelspec": {
      "name": "python3",
      "display_name": "Python 3"
    },
    "language_info": {
      "name": "python",
      "version": "3.10.14",
      "mimetype": "text/x-python",
      "codemirror_mode": {
        "name": "ipython",
        "version": 3
      },
      "pygments_lexer": "ipython3",
      "nbconvert_exporter": "python",
      "file_extension": ".py"
    },
    "kaggle": {
      "accelerator": "nvidiaTeslaT4",
      "dataSources": [
        {
          "sourceId": 9226719,
          "sourceType": "datasetVersion",
          "datasetId": 5580412
        }
      ],
      "dockerImageVersionId": 30762,
      "isInternetEnabled": true,
      "language": "python",
      "sourceType": "notebook",
      "isGpuEnabled": true
    }
  },
  "nbformat_minor": 0,
  "nbformat": 4,
  "cells": [
    {
      "cell_type": "markdown",
      "metadata": {
        "id": "view-in-github",
        "colab_type": "text"
      },
      "source": [
        "<a href=\"https://colab.research.google.com/github/omarbecerrasierra/MLOpsChallenge/blob/main/Caso2.ipynb\" target=\"_parent\"><img src=\"https://colab.research.google.com/assets/colab-badge.svg\" alt=\"Open In Colab\"/></a>"
      ]
    },
    {
      "cell_type": "code",
      "source": [
        "# Instalación de dependencias necesarias\n",
        "!pip install -U langchain-core\n",
        "!pip install -U pymupdf\n",
        "!pip install -U langchain\n",
        "!pip install -U langchain-google-genai"
      ],
      "metadata": {
        "colab": {
          "background_save": true
        },
        "id": "b1JKQGFzYYRi",
        "execution": {
          "iopub.status.busy": "2024-08-22T16:14:30.993192Z",
          "iopub.execute_input": "2024-08-22T16:14:30.993463Z",
          "iopub.status.idle": "2024-08-22T16:15:31.418030Z",
          "shell.execute_reply.started": "2024-08-22T16:14:30.993431Z",
          "shell.execute_reply": "2024-08-22T16:15:31.416868Z"
        },
        "trusted": true,
        "outputId": "dfb67a34-e75e-47b2-e735-27e2bc5343f2"
      },
      "execution_count": null,
      "outputs": [
        {
          "name": "stdout",
          "text": "Collecting langchain-core\n  Downloading langchain_core-0.2.34-py3-none-any.whl.metadata (6.2 kB)\nRequirement already satisfied: PyYAML>=5.3 in /opt/conda/lib/python3.10/site-packages (from langchain-core) (6.0.2)\nRequirement already satisfied: jsonpatch<2.0,>=1.33 in /opt/conda/lib/python3.10/site-packages (from langchain-core) (1.33)\nCollecting langsmith<0.2.0,>=0.1.75 (from langchain-core)\n  Downloading langsmith-0.1.101-py3-none-any.whl.metadata (13 kB)\nCollecting packaging<25,>=23.2 (from langchain-core)\n  Downloading packaging-24.1-py3-none-any.whl.metadata (3.2 kB)\nRequirement already satisfied: pydantic<3,>=1 in /opt/conda/lib/python3.10/site-packages (from langchain-core) (2.8.2)\nRequirement already satisfied: tenacity!=8.4.0,<9.0.0,>=8.1.0 in /opt/conda/lib/python3.10/site-packages (from langchain-core) (8.3.0)\nRequirement already satisfied: typing-extensions>=4.7 in /opt/conda/lib/python3.10/site-packages (from langchain-core) (4.12.2)\nRequirement already satisfied: jsonpointer>=1.9 in /opt/conda/lib/python3.10/site-packages (from jsonpatch<2.0,>=1.33->langchain-core) (2.4)\nRequirement already satisfied: httpx<1,>=0.23.0 in /opt/conda/lib/python3.10/site-packages (from langsmith<0.2.0,>=0.1.75->langchain-core) (0.27.0)\nRequirement already satisfied: orjson<4.0.0,>=3.9.14 in /opt/conda/lib/python3.10/site-packages (from langsmith<0.2.0,>=0.1.75->langchain-core) (3.10.4)\nRequirement already satisfied: requests<3,>=2 in /opt/conda/lib/python3.10/site-packages (from langsmith<0.2.0,>=0.1.75->langchain-core) (2.32.3)\nRequirement already satisfied: annotated-types>=0.4.0 in /opt/conda/lib/python3.10/site-packages (from pydantic<3,>=1->langchain-core) (0.7.0)\nRequirement already satisfied: pydantic-core==2.20.1 in /opt/conda/lib/python3.10/site-packages (from pydantic<3,>=1->langchain-core) (2.20.1)\nRequirement already satisfied: anyio in /opt/conda/lib/python3.10/site-packages (from httpx<1,>=0.23.0->langsmith<0.2.0,>=0.1.75->langchain-core) (4.4.0)\nRequirement already satisfied: certifi in /opt/conda/lib/python3.10/site-packages (from httpx<1,>=0.23.0->langsmith<0.2.0,>=0.1.75->langchain-core) (2024.7.4)\nRequirement already satisfied: httpcore==1.* in /opt/conda/lib/python3.10/site-packages (from httpx<1,>=0.23.0->langsmith<0.2.0,>=0.1.75->langchain-core) (1.0.5)\nRequirement already satisfied: idna in /opt/conda/lib/python3.10/site-packages (from httpx<1,>=0.23.0->langsmith<0.2.0,>=0.1.75->langchain-core) (3.7)\nRequirement already satisfied: sniffio in /opt/conda/lib/python3.10/site-packages (from httpx<1,>=0.23.0->langsmith<0.2.0,>=0.1.75->langchain-core) (1.3.1)\nRequirement already satisfied: h11<0.15,>=0.13 in /opt/conda/lib/python3.10/site-packages (from httpcore==1.*->httpx<1,>=0.23.0->langsmith<0.2.0,>=0.1.75->langchain-core) (0.14.0)\nRequirement already satisfied: charset-normalizer<4,>=2 in /opt/conda/lib/python3.10/site-packages (from requests<3,>=2->langsmith<0.2.0,>=0.1.75->langchain-core) (3.3.2)\nRequirement already satisfied: urllib3<3,>=1.21.1 in /opt/conda/lib/python3.10/site-packages (from requests<3,>=2->langsmith<0.2.0,>=0.1.75->langchain-core) (1.26.18)\nRequirement already satisfied: exceptiongroup>=1.0.2 in /opt/conda/lib/python3.10/site-packages (from anyio->httpx<1,>=0.23.0->langsmith<0.2.0,>=0.1.75->langchain-core) (1.2.0)\nDownloading langchain_core-0.2.34-py3-none-any.whl (393 kB)\n\u001b[2K   \u001b[90m━━━━━━━━━━━━━━━━━━━━━━━━━━━━━━━━━━━━━━━━\u001b[0m \u001b[32m393.9/393.9 kB\u001b[0m \u001b[31m2.6 MB/s\u001b[0m eta \u001b[36m0:00:00\u001b[0m00:01\u001b[0m00:01\u001b[0mm\n\u001b[?25hDownloading langsmith-0.1.101-py3-none-any.whl (148 kB)\n\u001b[2K   \u001b[90m━━━━━━━━━━━━━━━━━━━━━━━━━━━━━━━━━━━━━━━━\u001b[0m \u001b[32m148.9/148.9 kB\u001b[0m \u001b[31m10.0 MB/s\u001b[0m eta \u001b[36m0:00:00\u001b[0m\n\u001b[?25hDownloading packaging-24.1-py3-none-any.whl (53 kB)\n\u001b[2K   \u001b[90m━━━━━━━━━━━━━━━━━━━━━━━━━━━━━━━━━━━━━━━━\u001b[0m \u001b[32m54.0/54.0 kB\u001b[0m \u001b[31m4.3 MB/s\u001b[0m eta \u001b[36m0:00:00\u001b[0m\n\u001b[?25hInstalling collected packages: packaging, langsmith, langchain-core\n  Attempting uninstall: packaging\n    Found existing installation: packaging 21.3\n    Uninstalling packaging-21.3:\n      Successfully uninstalled packaging-21.3\n\u001b[31mERROR: pip's dependency resolver does not currently take into account all the packages that are installed. This behaviour is the source of the following dependency conflicts.\ncudf 24.8.2 requires cubinlinker, which is not installed.\ncudf 24.8.2 requires cupy-cuda11x>=12.0.0, which is not installed.\ncudf 24.8.2 requires ptxcompiler, which is not installed.\ncuml 24.8.0 requires cupy-cuda11x>=12.0.0, which is not installed.\ndask-cudf 24.8.2 requires cupy-cuda11x>=12.0.0, which is not installed.\ncudf 24.8.2 requires cuda-python<12.0a0,>=11.7.1, but you have cuda-python 12.6.0 which is incompatible.\ndistributed 2024.7.1 requires dask==2024.7.1, but you have dask 2024.8.1 which is incompatible.\ngoogle-cloud-bigquery 2.34.4 requires packaging<22.0dev,>=14.3, but you have packaging 24.1 which is incompatible.\njupyterlab 4.2.4 requires jupyter-lsp>=2.0.0, but you have jupyter-lsp 1.5.1 which is incompatible.\njupyterlab-lsp 5.1.0 requires jupyter-lsp>=2.0.0, but you have jupyter-lsp 1.5.1 which is incompatible.\nlibpysal 4.9.2 requires shapely>=2.0.1, but you have shapely 1.8.5.post1 which is incompatible.\nmomepy 0.7.2 requires shapely>=2, but you have shapely 1.8.5.post1 which is incompatible.\nosmnx 1.9.4 requires shapely<2.1,>=2.0, but you have shapely 1.8.5.post1 which is incompatible.\npointpats 2.5.0 requires shapely>=2, but you have shapely 1.8.5.post1 which is incompatible.\nrapids-dask-dependency 24.8.0a0 requires dask==2024.7.1, but you have dask 2024.8.1 which is incompatible.\nspaghetti 1.7.6 requires shapely>=2.0.1, but you have shapely 1.8.5.post1 which is incompatible.\nspopt 0.6.1 requires shapely>=2.0.1, but you have shapely 1.8.5.post1 which is incompatible.\nydata-profiling 4.9.0 requires scipy<1.14,>=1.4.1, but you have scipy 1.14.0 which is incompatible.\u001b[0m\u001b[31m\n\u001b[0mSuccessfully installed langchain-core-0.2.34 langsmith-0.1.101 packaging-24.1\nCollecting pymupdf\n  Downloading PyMuPDF-1.24.9-cp310-none-manylinux2014_x86_64.whl.metadata (3.4 kB)\nCollecting PyMuPDFb==1.24.9 (from pymupdf)\n  Downloading PyMuPDFb-1.24.9-py3-none-manylinux2014_x86_64.manylinux_2_17_x86_64.whl.metadata (1.4 kB)\nDownloading PyMuPDF-1.24.9-cp310-none-manylinux2014_x86_64.whl (3.5 MB)\n\u001b[2K   \u001b[90m━━━━━━━━━━━━━━━━━━━━━━━━━━━━━━━━━━━━━━━━\u001b[0m \u001b[32m3.5/3.5 MB\u001b[0m \u001b[31m15.1 MB/s\u001b[0m eta \u001b[36m0:00:00\u001b[0m00:01\u001b[0m0:01\u001b[0m\n\u001b[?25hDownloading PyMuPDFb-1.24.9-py3-none-manylinux2014_x86_64.manylinux_2_17_x86_64.whl (15.9 MB)\n\u001b[2K   \u001b[90m━━━━━━━━━━━━━━━━━━━━━━━━━━━━━━━━━━━━━━━━\u001b[0m \u001b[32m15.9/15.9 MB\u001b[0m \u001b[31m61.8 MB/s\u001b[0m eta \u001b[36m0:00:00\u001b[0m:00:01\u001b[0m00:01\u001b[0m\n\u001b[?25hInstalling collected packages: PyMuPDFb, pymupdf\nSuccessfully installed PyMuPDFb-1.24.9 pymupdf-1.24.9\nCollecting langchain\n  Downloading langchain-0.2.14-py3-none-any.whl.metadata (7.1 kB)\nRequirement already satisfied: PyYAML>=5.3 in /opt/conda/lib/python3.10/site-packages (from langchain) (6.0.2)\nRequirement already satisfied: SQLAlchemy<3,>=1.4 in /opt/conda/lib/python3.10/site-packages (from langchain) (2.0.30)\nRequirement already satisfied: aiohttp<4.0.0,>=3.8.3 in /opt/conda/lib/python3.10/site-packages (from langchain) (3.9.5)\nRequirement already satisfied: async-timeout<5.0.0,>=4.0.0 in /opt/conda/lib/python3.10/site-packages (from langchain) (4.0.3)\nRequirement already satisfied: langchain-core<0.3.0,>=0.2.32 in /opt/conda/lib/python3.10/site-packages (from langchain) (0.2.34)\nCollecting langchain-text-splitters<0.3.0,>=0.2.0 (from langchain)\n  Downloading langchain_text_splitters-0.2.2-py3-none-any.whl.metadata (2.1 kB)\nRequirement already satisfied: langsmith<0.2.0,>=0.1.17 in /opt/conda/lib/python3.10/site-packages (from langchain) (0.1.101)\nRequirement already satisfied: numpy<2,>=1 in /opt/conda/lib/python3.10/site-packages (from langchain) (1.26.4)\nRequirement already satisfied: pydantic<3,>=1 in /opt/conda/lib/python3.10/site-packages (from langchain) (2.8.2)\nRequirement already satisfied: requests<3,>=2 in /opt/conda/lib/python3.10/site-packages (from langchain) (2.32.3)\nRequirement already satisfied: tenacity!=8.4.0,<9.0.0,>=8.1.0 in /opt/conda/lib/python3.10/site-packages (from langchain) (8.3.0)\nRequirement already satisfied: aiosignal>=1.1.2 in /opt/conda/lib/python3.10/site-packages (from aiohttp<4.0.0,>=3.8.3->langchain) (1.3.1)\nRequirement already satisfied: attrs>=17.3.0 in /opt/conda/lib/python3.10/site-packages (from aiohttp<4.0.0,>=3.8.3->langchain) (23.2.0)\nRequirement already satisfied: frozenlist>=1.1.1 in /opt/conda/lib/python3.10/site-packages (from aiohttp<4.0.0,>=3.8.3->langchain) (1.4.1)\nRequirement already satisfied: multidict<7.0,>=4.5 in /opt/conda/lib/python3.10/site-packages (from aiohttp<4.0.0,>=3.8.3->langchain) (6.0.5)\nRequirement already satisfied: yarl<2.0,>=1.0 in /opt/conda/lib/python3.10/site-packages (from aiohttp<4.0.0,>=3.8.3->langchain) (1.9.4)\nRequirement already satisfied: jsonpatch<2.0,>=1.33 in /opt/conda/lib/python3.10/site-packages (from langchain-core<0.3.0,>=0.2.32->langchain) (1.33)\nRequirement already satisfied: packaging<25,>=23.2 in /opt/conda/lib/python3.10/site-packages (from langchain-core<0.3.0,>=0.2.32->langchain) (24.1)\nRequirement already satisfied: typing-extensions>=4.7 in /opt/conda/lib/python3.10/site-packages (from langchain-core<0.3.0,>=0.2.32->langchain) (4.12.2)\nRequirement already satisfied: httpx<1,>=0.23.0 in /opt/conda/lib/python3.10/site-packages (from langsmith<0.2.0,>=0.1.17->langchain) (0.27.0)\nRequirement already satisfied: orjson<4.0.0,>=3.9.14 in /opt/conda/lib/python3.10/site-packages (from langsmith<0.2.0,>=0.1.17->langchain) (3.10.4)\nRequirement already satisfied: annotated-types>=0.4.0 in /opt/conda/lib/python3.10/site-packages (from pydantic<3,>=1->langchain) (0.7.0)\nRequirement already satisfied: pydantic-core==2.20.1 in /opt/conda/lib/python3.10/site-packages (from pydantic<3,>=1->langchain) (2.20.1)\nRequirement already satisfied: charset-normalizer<4,>=2 in /opt/conda/lib/python3.10/site-packages (from requests<3,>=2->langchain) (3.3.2)\nRequirement already satisfied: idna<4,>=2.5 in /opt/conda/lib/python3.10/site-packages (from requests<3,>=2->langchain) (3.7)\nRequirement already satisfied: urllib3<3,>=1.21.1 in /opt/conda/lib/python3.10/site-packages (from requests<3,>=2->langchain) (1.26.18)\nRequirement already satisfied: certifi>=2017.4.17 in /opt/conda/lib/python3.10/site-packages (from requests<3,>=2->langchain) (2024.7.4)\nRequirement already satisfied: greenlet!=0.4.17 in /opt/conda/lib/python3.10/site-packages (from SQLAlchemy<3,>=1.4->langchain) (3.0.3)\nRequirement already satisfied: anyio in /opt/conda/lib/python3.10/site-packages (from httpx<1,>=0.23.0->langsmith<0.2.0,>=0.1.17->langchain) (4.4.0)\nRequirement already satisfied: httpcore==1.* in /opt/conda/lib/python3.10/site-packages (from httpx<1,>=0.23.0->langsmith<0.2.0,>=0.1.17->langchain) (1.0.5)\nRequirement already satisfied: sniffio in /opt/conda/lib/python3.10/site-packages (from httpx<1,>=0.23.0->langsmith<0.2.0,>=0.1.17->langchain) (1.3.1)\nRequirement already satisfied: h11<0.15,>=0.13 in /opt/conda/lib/python3.10/site-packages (from httpcore==1.*->httpx<1,>=0.23.0->langsmith<0.2.0,>=0.1.17->langchain) (0.14.0)\nRequirement already satisfied: jsonpointer>=1.9 in /opt/conda/lib/python3.10/site-packages (from jsonpatch<2.0,>=1.33->langchain-core<0.3.0,>=0.2.32->langchain) (2.4)\nRequirement already satisfied: exceptiongroup>=1.0.2 in /opt/conda/lib/python3.10/site-packages (from anyio->httpx<1,>=0.23.0->langsmith<0.2.0,>=0.1.17->langchain) (1.2.0)\nDownloading langchain-0.2.14-py3-none-any.whl (997 kB)\n\u001b[2K   \u001b[90m━━━━━━━━━━━━━━━━━━━━━━━━━━━━━━━━━━━━━━━━\u001b[0m \u001b[32m997.8/997.8 kB\u001b[0m \u001b[31m5.8 MB/s\u001b[0m eta \u001b[36m0:00:00\u001b[0ma \u001b[36m0:00:01\u001b[0mm\n\u001b[?25hDownloading langchain_text_splitters-0.2.2-py3-none-any.whl (25 kB)\nInstalling collected packages: langchain-text-splitters, langchain\nSuccessfully installed langchain-0.2.14 langchain-text-splitters-0.2.2\nCollecting langchain-google-genai\n  Downloading langchain_google_genai-1.0.10-py3-none-any.whl.metadata (3.8 kB)\nRequirement already satisfied: google-generativeai<0.8.0,>=0.7.0 in /opt/conda/lib/python3.10/site-packages (from langchain-google-genai) (0.7.2)\nRequirement already satisfied: langchain-core<0.3,>=0.2.33 in /opt/conda/lib/python3.10/site-packages (from langchain-google-genai) (0.2.34)\nRequirement already satisfied: google-ai-generativelanguage==0.6.6 in /opt/conda/lib/python3.10/site-packages (from google-generativeai<0.8.0,>=0.7.0->langchain-google-genai) (0.6.6)\nRequirement already satisfied: google-api-core in /opt/conda/lib/python3.10/site-packages (from google-generativeai<0.8.0,>=0.7.0->langchain-google-genai) (2.11.1)\nRequirement already satisfied: google-api-python-client in /opt/conda/lib/python3.10/site-packages (from google-generativeai<0.8.0,>=0.7.0->langchain-google-genai) (2.141.0)\nRequirement already satisfied: google-auth>=2.15.0 in /opt/conda/lib/python3.10/site-packages (from google-generativeai<0.8.0,>=0.7.0->langchain-google-genai) (2.30.0)\nRequirement already satisfied: protobuf in /opt/conda/lib/python3.10/site-packages (from google-generativeai<0.8.0,>=0.7.0->langchain-google-genai) (3.20.3)\nRequirement already satisfied: pydantic in /opt/conda/lib/python3.10/site-packages (from google-generativeai<0.8.0,>=0.7.0->langchain-google-genai) (2.8.2)\nRequirement already satisfied: tqdm in /opt/conda/lib/python3.10/site-packages (from google-generativeai<0.8.0,>=0.7.0->langchain-google-genai) (4.66.4)\nRequirement already satisfied: typing-extensions in /opt/conda/lib/python3.10/site-packages (from google-generativeai<0.8.0,>=0.7.0->langchain-google-genai) (4.12.2)\nRequirement already satisfied: proto-plus<2.0.0dev,>=1.22.3 in /opt/conda/lib/python3.10/site-packages (from google-ai-generativelanguage==0.6.6->google-generativeai<0.8.0,>=0.7.0->langchain-google-genai) (1.23.0)\nRequirement already satisfied: PyYAML>=5.3 in /opt/conda/lib/python3.10/site-packages (from langchain-core<0.3,>=0.2.33->langchain-google-genai) (6.0.2)\nRequirement already satisfied: jsonpatch<2.0,>=1.33 in /opt/conda/lib/python3.10/site-packages (from langchain-core<0.3,>=0.2.33->langchain-google-genai) (1.33)\nRequirement already satisfied: langsmith<0.2.0,>=0.1.75 in /opt/conda/lib/python3.10/site-packages (from langchain-core<0.3,>=0.2.33->langchain-google-genai) (0.1.101)\nRequirement already satisfied: packaging<25,>=23.2 in /opt/conda/lib/python3.10/site-packages (from langchain-core<0.3,>=0.2.33->langchain-google-genai) (24.1)\nRequirement already satisfied: tenacity!=8.4.0,<9.0.0,>=8.1.0 in /opt/conda/lib/python3.10/site-packages (from langchain-core<0.3,>=0.2.33->langchain-google-genai) (8.3.0)\nRequirement already satisfied: googleapis-common-protos<2.0.dev0,>=1.56.2 in /opt/conda/lib/python3.10/site-packages (from google-api-core->google-generativeai<0.8.0,>=0.7.0->langchain-google-genai) (1.63.1)\nRequirement already satisfied: requests<3.0.0.dev0,>=2.18.0 in /opt/conda/lib/python3.10/site-packages (from google-api-core->google-generativeai<0.8.0,>=0.7.0->langchain-google-genai) (2.32.3)\nRequirement already satisfied: cachetools<6.0,>=2.0.0 in /opt/conda/lib/python3.10/site-packages (from google-auth>=2.15.0->google-generativeai<0.8.0,>=0.7.0->langchain-google-genai) (4.2.4)\nRequirement already satisfied: pyasn1-modules>=0.2.1 in /opt/conda/lib/python3.10/site-packages (from google-auth>=2.15.0->google-generativeai<0.8.0,>=0.7.0->langchain-google-genai) (0.4.0)\nRequirement already satisfied: rsa<5,>=3.1.4 in /opt/conda/lib/python3.10/site-packages (from google-auth>=2.15.0->google-generativeai<0.8.0,>=0.7.0->langchain-google-genai) (4.9)\nRequirement already satisfied: jsonpointer>=1.9 in /opt/conda/lib/python3.10/site-packages (from jsonpatch<2.0,>=1.33->langchain-core<0.3,>=0.2.33->langchain-google-genai) (2.4)\nRequirement already satisfied: httpx<1,>=0.23.0 in /opt/conda/lib/python3.10/site-packages (from langsmith<0.2.0,>=0.1.75->langchain-core<0.3,>=0.2.33->langchain-google-genai) (0.27.0)\nRequirement already satisfied: orjson<4.0.0,>=3.9.14 in /opt/conda/lib/python3.10/site-packages (from langsmith<0.2.0,>=0.1.75->langchain-core<0.3,>=0.2.33->langchain-google-genai) (3.10.4)\nRequirement already satisfied: annotated-types>=0.4.0 in /opt/conda/lib/python3.10/site-packages (from pydantic->google-generativeai<0.8.0,>=0.7.0->langchain-google-genai) (0.7.0)\nRequirement already satisfied: pydantic-core==2.20.1 in /opt/conda/lib/python3.10/site-packages (from pydantic->google-generativeai<0.8.0,>=0.7.0->langchain-google-genai) (2.20.1)\nRequirement already satisfied: httplib2<1.dev0,>=0.19.0 in /opt/conda/lib/python3.10/site-packages (from google-api-python-client->google-generativeai<0.8.0,>=0.7.0->langchain-google-genai) (0.21.0)\nRequirement already satisfied: google-auth-httplib2<1.0.0,>=0.2.0 in /opt/conda/lib/python3.10/site-packages (from google-api-python-client->google-generativeai<0.8.0,>=0.7.0->langchain-google-genai) (0.2.0)\nRequirement already satisfied: uritemplate<5,>=3.0.1 in /opt/conda/lib/python3.10/site-packages (from google-api-python-client->google-generativeai<0.8.0,>=0.7.0->langchain-google-genai) (3.0.1)\nRequirement already satisfied: grpcio<2.0dev,>=1.33.2 in /opt/conda/lib/python3.10/site-packages (from google-api-core[grpc]!=2.0.*,!=2.1.*,!=2.10.*,!=2.2.*,!=2.3.*,!=2.4.*,!=2.5.*,!=2.6.*,!=2.7.*,!=2.8.*,!=2.9.*,<3.0.0dev,>=1.34.1->google-ai-generativelanguage==0.6.6->google-generativeai<0.8.0,>=0.7.0->langchain-google-genai) (1.62.2)\nRequirement already satisfied: grpcio-status<2.0.dev0,>=1.33.2 in /opt/conda/lib/python3.10/site-packages (from google-api-core[grpc]!=2.0.*,!=2.1.*,!=2.10.*,!=2.2.*,!=2.3.*,!=2.4.*,!=2.5.*,!=2.6.*,!=2.7.*,!=2.8.*,!=2.9.*,<3.0.0dev,>=1.34.1->google-ai-generativelanguage==0.6.6->google-generativeai<0.8.0,>=0.7.0->langchain-google-genai) (1.48.0)\nRequirement already satisfied: pyparsing!=3.0.0,!=3.0.1,!=3.0.2,!=3.0.3,<4,>=2.4.2 in /opt/conda/lib/python3.10/site-packages (from httplib2<1.dev0,>=0.19.0->google-api-python-client->google-generativeai<0.8.0,>=0.7.0->langchain-google-genai) (3.1.2)\nRequirement already satisfied: anyio in /opt/conda/lib/python3.10/site-packages (from httpx<1,>=0.23.0->langsmith<0.2.0,>=0.1.75->langchain-core<0.3,>=0.2.33->langchain-google-genai) (4.4.0)\nRequirement already satisfied: certifi in /opt/conda/lib/python3.10/site-packages (from httpx<1,>=0.23.0->langsmith<0.2.0,>=0.1.75->langchain-core<0.3,>=0.2.33->langchain-google-genai) (2024.7.4)\nRequirement already satisfied: httpcore==1.* in /opt/conda/lib/python3.10/site-packages (from httpx<1,>=0.23.0->langsmith<0.2.0,>=0.1.75->langchain-core<0.3,>=0.2.33->langchain-google-genai) (1.0.5)\nRequirement already satisfied: idna in /opt/conda/lib/python3.10/site-packages (from httpx<1,>=0.23.0->langsmith<0.2.0,>=0.1.75->langchain-core<0.3,>=0.2.33->langchain-google-genai) (3.7)\nRequirement already satisfied: sniffio in /opt/conda/lib/python3.10/site-packages (from httpx<1,>=0.23.0->langsmith<0.2.0,>=0.1.75->langchain-core<0.3,>=0.2.33->langchain-google-genai) (1.3.1)\nRequirement already satisfied: h11<0.15,>=0.13 in /opt/conda/lib/python3.10/site-packages (from httpcore==1.*->httpx<1,>=0.23.0->langsmith<0.2.0,>=0.1.75->langchain-core<0.3,>=0.2.33->langchain-google-genai) (0.14.0)\nRequirement already satisfied: pyasn1<0.7.0,>=0.4.6 in /opt/conda/lib/python3.10/site-packages (from pyasn1-modules>=0.2.1->google-auth>=2.15.0->google-generativeai<0.8.0,>=0.7.0->langchain-google-genai) (0.6.0)\nRequirement already satisfied: charset-normalizer<4,>=2 in /opt/conda/lib/python3.10/site-packages (from requests<3.0.0.dev0,>=2.18.0->google-api-core->google-generativeai<0.8.0,>=0.7.0->langchain-google-genai) (3.3.2)\nRequirement already satisfied: urllib3<3,>=1.21.1 in /opt/conda/lib/python3.10/site-packages (from requests<3.0.0.dev0,>=2.18.0->google-api-core->google-generativeai<0.8.0,>=0.7.0->langchain-google-genai) (1.26.18)\nRequirement already satisfied: exceptiongroup>=1.0.2 in /opt/conda/lib/python3.10/site-packages (from anyio->httpx<1,>=0.23.0->langsmith<0.2.0,>=0.1.75->langchain-core<0.3,>=0.2.33->langchain-google-genai) (1.2.0)\nDownloading langchain_google_genai-1.0.10-py3-none-any.whl (39 kB)\nInstalling collected packages: langchain-google-genai\nSuccessfully installed langchain-google-genai-1.0.10\n",
          "output_type": "stream"
        }
      ]
    },
    {
      "cell_type": "code",
      "source": [
        "import fitz  # PyMuPDF\n",
        "from langchain import PromptTemplate\n",
        "from langchain_core.output_parsers import JsonOutputParser\n",
        "from langchain_core.pydantic_v1 import BaseModel, Field\n",
        "from langchain_google_genai import ChatGoogleGenerativeAI\n",
        "from tqdm.notebook import tqdm\n",
        "import os\n",
        "import json\n",
        "import re\n",
        "from google.colab import userdata\n",
        "os.environ[\"GOOGLE_API_KEY\"] = userdata.get('API_KEY')"
      ],
      "metadata": {
        "colab": {
          "background_save": true
        },
        "id": "TrCOswLpZviM",
        "execution": {
          "iopub.status.busy": "2024-08-22T16:15:31.419905Z",
          "iopub.execute_input": "2024-08-22T16:15:31.420231Z",
          "iopub.status.idle": "2024-08-22T16:15:33.531704Z",
          "shell.execute_reply.started": "2024-08-22T16:15:31.420195Z",
          "shell.execute_reply": "2024-08-22T16:15:33.530789Z"
        },
        "trusted": true
      },
      "execution_count": null,
      "outputs": []
    },
    {
      "cell_type": "code",
      "source": [
        "# Función para limpiar el texto del CV\n",
        "def clean_text(text):\n",
        "    text = text.lower()\n",
        "    replacements = {\n",
        "        r'\\n': ' ', r'´ o': 'o', r'´ ı': 'i', r'´ a': 'a',\n",
        "        r'´ u': 'u', r'´ e': 'e', r'˜ n': 'n', r' %': '%',\n",
        "        r'\\x83': '', '´ i̇':'i', 'ï':''\n",
        "    }\n",
        "    for pattern, replacement in replacements.items():\n",
        "        text = re.sub(pattern, replacement, text)\n",
        "    text = re.sub(r'\\s+', ' ', text).strip()\n",
        "    return text\n",
        "\n",
        "# Función para extraer texto de un PDF\n",
        "def extract_text_from_pdf(file_path):\n",
        "    doc = fitz.open(file_path)\n",
        "    text = \"\"\n",
        "    for page_num in range(len(doc)):\n",
        "        page = doc.load_page(page_num)\n",
        "        text += page.get_text(\"text\")\n",
        "    return text"
      ],
      "metadata": {
        "execution": {
          "iopub.status.busy": "2024-08-22T16:15:33.532833Z",
          "iopub.execute_input": "2024-08-22T16:15:33.533260Z",
          "iopub.status.idle": "2024-08-22T16:15:33.540614Z",
          "shell.execute_reply.started": "2024-08-22T16:15:33.533227Z",
          "shell.execute_reply": "2024-08-22T16:15:33.539626Z"
        },
        "trusted": true,
        "id": "II9NxaDX4to3"
      },
      "execution_count": null,
      "outputs": []
    },
    {
      "cell_type": "code",
      "source": [
        "class Info(BaseModel):\n",
        "    full_name: str = Field(description=\"Full name of the candidate in lower case.\")\n",
        "    contact: str = Field(description=\"Contact information (email in format lower_case@email.com or phone number in format +(country code) phone number).\")\n",
        "    years_experience: int = Field(description=\"Total years of professional experience as a number\")\n",
        "    ai_education: str = Field(description=\"Whether the candidate has education in artificial intelligence. (Options: 'Yes' or 'No')\")"
      ],
      "metadata": {
        "execution": {
          "iopub.status.busy": "2024-08-22T16:15:33.543091Z",
          "iopub.execute_input": "2024-08-22T16:15:33.543474Z",
          "iopub.status.idle": "2024-08-22T16:15:33.739584Z",
          "shell.execute_reply.started": "2024-08-22T16:15:33.543429Z",
          "shell.execute_reply": "2024-08-22T16:15:33.738781Z"
        },
        "trusted": true,
        "id": "t3l-Q9yX4to3"
      },
      "execution_count": null,
      "outputs": []
    },
    {
      "cell_type": "code",
      "source": [
        "llm = ChatGoogleGenerativeAI(\n",
        "    model=\"gemini-1.5-pro\",\n",
        "    temperature=0,\n",
        "    max_tokens=None,\n",
        "    timeout=None,\n",
        "    max_retries=2\n",
        ")\n",
        "\n",
        "# Definición del template de prompt\n",
        "template = \"\"\"\n",
        "You will be provided with a block of text extracted from a CV.\n",
        "Your task is to extract specific information and output it in a JSON format.\n",
        "Only include the requested fields in the JSON object, and ensure there is no additional text.\n",
        "Text from CV: {cv_text}\n",
        "Output Format: {format_instructions}\n",
        "\"\"\"\n",
        "parser = JsonOutputParser(pydantic_object=Info)\n",
        "\n",
        "prompt = PromptTemplate(\n",
        "    template=template,\n",
        "    input_variables=[\"cv_text\"],\n",
        "    partial_variables={\"format_instructions\": parser.get_format_instructions()}\n",
        ")\n",
        "# Crear el prompt y la cadena LLM\n",
        "chain = prompt | llm | parser"
      ],
      "metadata": {
        "execution": {
          "iopub.status.busy": "2024-08-22T16:15:33.740743Z",
          "iopub.execute_input": "2024-08-22T16:15:33.741035Z",
          "iopub.status.idle": "2024-08-22T16:15:33.804698Z",
          "shell.execute_reply.started": "2024-08-22T16:15:33.740998Z",
          "shell.execute_reply": "2024-08-22T16:15:33.803862Z"
        },
        "trusted": true,
        "id": "wp2k6cpX4to3"
      },
      "execution_count": null,
      "outputs": []
    },
    {
      "cell_type": "code",
      "source": [
        "# Función para procesar una carpeta de archivos PDF\n",
        "def process_cv_folder(folder_path):\n",
        "    results = []\n",
        "\n",
        "    # Iterar sobre todos los archivos PDF en la carpeta\n",
        "    for file_name in tqdm(os.listdir(folder_path)):\n",
        "        if file_name.endswith('.pdf'):\n",
        "            try:\n",
        "                file_path = os.path.join(folder_path, file_name)\n",
        "\n",
        "                # Extracción y limpieza del texto del CV\n",
        "                extracted_text = extract_text_from_pdf(file_path)\n",
        "                cleaned_text = clean_text(extracted_text)\n",
        "\n",
        "                # Ejecutar la cadena para extraer la información del CV\n",
        "                result = chain.invoke({\"cv_text\": cleaned_text})\n",
        "\n",
        "                # Almacenar el resultado junto con el nombre del archivo\n",
        "                results.append({\"file_name\": file_name, \"extracted_data\": result})\n",
        "            except Exception as e:\n",
        "                print('Error', e)\n",
        "    return results\n",
        "\n",
        "# Ruta de la carpeta que contiene las hojas de vida\n",
        "folder_path = \"dataset/cvs\"\n",
        "\n",
        "# Procesar todas las hojas de vida en la carpeta\n",
        "cv_results = process_cv_folder(folder_path)\n",
        "\n",
        "# Mostrar los resultados en un formato JSON legible\n",
        "for cv in cv_results:\n",
        "    print(f\"File Name = {cv['file_name']}:\")\n",
        "    print(\"Info:\")\n",
        "    print(json.dumps(cv['extracted_data'], indent=4))"
      ],
      "metadata": {
        "execution": {
          "iopub.status.busy": "2024-08-22T16:15:33.805799Z",
          "iopub.execute_input": "2024-08-22T16:15:33.806084Z",
          "iopub.status.idle": "2024-08-22T16:15:48.005619Z",
          "shell.execute_reply.started": "2024-08-22T16:15:33.806039Z",
          "shell.execute_reply": "2024-08-22T16:15:48.004535Z"
        },
        "trusted": true,
        "colab": {
          "referenced_widgets": [
            "41f37f64db024ecf9314408f25810f9e"
          ]
        },
        "id": "QSqqPwcM4to4",
        "outputId": "87ae3a65-4bd4-43a2-85b3-7a079285a032"
      },
      "execution_count": null,
      "outputs": [
        {
          "output_type": "display_data",
          "data": {
            "text/plain": "  0%|          | 0/9 [00:00<?, ?it/s]",
            "application/vnd.jupyter.widget-view+json": {
              "version_major": 2,
              "version_minor": 0,
              "model_id": "41f37f64db024ecf9314408f25810f9e"
            }
          },
          "metadata": {}
        },
        {
          "name": "stdout",
          "text": "File Name = CV8.pdf:\nInfo:\n{\n    \"full_name\": \"dr.santosh kakade\",\n    \"contact\": \"drsantoshkakade@gmail.com\",\n    \"years_experience\": 20,\n    \"ai_education\": \"No\"\n}\nFile Name = CV4.pdf:\nInfo:\n{\n    \"full_name\": \"dyah hediyati s.kom\",\n    \"contact\": \"dyahhediyati@gmail.com\",\n    \"years_experience\": 4,\n    \"ai_education\": \"No\"\n}\nFile Name = CV7.pdf:\nInfo:\n{\n    \"full_name\": \"ringgi cahyo dwiputra\",\n    \"contact\": \"ringgicahyo@gmail.com\",\n    \"years_experience\": 3,\n    \"ai_education\": \"No\"\n}\nFile Name = CV9.pdf:\nInfo:\n{\n    \"full_name\": \"loren shevitz\",\n    \"contact\": \"loren@shevitz.org\",\n    \"years_experience\": 21,\n    \"ai_education\": \"No\"\n}\nFile Name = CV2.pdf:\nInfo:\n{\n    \"full_name\": \"powell finwood\",\n    \"contact\": \"hello@reallygreatsite.com\",\n    \"years_experience\": 4,\n    \"ai_education\": \"No\"\n}\nFile Name = CV5.pdf:\nInfo:\n{\n    \"full_name\": \"immanuel abraham mahardhika yudantoro tobing\",\n    \"contact\": \"dhikayudano@gmail.com\",\n    \"years_experience\": 6,\n    \"ai_education\": \"No\"\n}\nFile Name = CV1.pdf:\nInfo:\n{\n    \"full_name\": \"junaedi puji\",\n    \"contact\": \"me@junae.id\",\n    \"years_experience\": 6,\n    \"ai_education\": \"No\"\n}\nFile Name = CV6.pdf:\nInfo:\n{\n    \"full_name\": \"alice clark\",\n    \"contact\": \"email me on indeed\",\n    \"years_experience\": 20,\n    \"ai_education\": \"Yes\"\n}\nFile Name = CV3.pdf:\nInfo:\n{\n    \"full_name\": \"michael smith\",\n    \"contact\": \"indeed.com/r/falicent/140749dace5dc26f\",\n    \"years_experience\": 10,\n    \"ai_education\": \"No\"\n}\n",
          "output_type": "stream"
        }
      ]
    }
  ]
}